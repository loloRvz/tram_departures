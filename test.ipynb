{
 "cells": [
  {
   "cell_type": "code",
   "execution_count": 17,
   "metadata": {},
   "outputs": [],
   "source": [
    "import requests\n",
    "import xml.etree.ElementTree as ET"
   ]
  },
  {
   "cell_type": "code",
   "execution_count": 24,
   "metadata": {},
   "outputs": [],
   "source": [
    "# API request with xml data payload\n",
    "def send_xml_request(api_key):\n",
    "    # Select request params\n",
    "    xml_payload = open(\"API_request.xml\").read()\n",
    "\n",
    "    # API url\n",
    "    endpoint_url = 'https://api.opentransportdata.swiss/trias2020'\n",
    "\n",
    "    try:\n",
    "        response = requests.post(endpoint_url, headers={'Content-Type': 'application/xml', 'Authorization': 'Bearer {}'.format(api_key)}, data=xml_payload)\n",
    "        if response.status_code == 200:\n",
    "            # Process the response data as needed\n",
    "            return response\n",
    "        else:\n",
    "            print(\"Error: Unable to fetch data from the API. Status code:\", response.status_code)\n",
    "    except Exception as e:\n",
    "        print(\"An error occurred:\", e)"
   ]
  },
  {
   "cell_type": "code",
   "execution_count": 75,
   "metadata": {},
   "outputs": [
    {
     "name": "stdout",
     "output_type": "stream",
     "text": [
      "<Element '{http://www.vdv.de/trias}StopEventResponse' at 0x7f47a5acc540>\n",
      "<Element '{http://www.vdv.de/trias}StopEventResult' at 0x7f47a5accc70>\n",
      "None\n",
      "None\n"
     ]
    }
   ],
   "source": [
    "api_key = 'eyJvcmciOiI2NDA2NTFhNTIyZmEwNTAwMDEyOWJiZTEiLCJpZCI6ImFlMjA4ODJkZTRjMzRjYTY4NjVkNDJkOGM1MWFmM2YxIiwiaCI6Im11cm11cjEyOCJ9'\n",
    "\n",
    "response = send_xml_request(api_key)\n",
    "\n",
    "tree = ET.ElementTree(ET.fromstring(response.text))\n",
    "root = tree.getroot()\n",
    "\n",
    "ns = {'trias': 'http://www.vdv.de/trias'}\n",
    "\n",
    "child = root.find('./trias:ServiceDelivery/trias:DeliveryPayload/trias:StopEventResponse',ns)\n",
    "print(child)\n",
    "\n",
    "\n",
    "for elem in child.findall('trias:StopEventResult',ns):\n",
    "    print(elem)\n",
    "\n",
    "    line = elem.find('trias:PublishedLineName',ns)\n",
    "    destination = elem.find('trias:DestinationText',ns)\n",
    "\n",
    "    print(line)\n",
    "    print(destination)\n",
    "\n",
    "\n",
    "# for child in root:\n",
    "#     print(child.tag, child.attrib)"
   ]
  }
 ],
 "metadata": {
  "kernelspec": {
   "display_name": "Python 3.8.10 64-bit",
   "language": "python",
   "name": "python3"
  },
  "language_info": {
   "codemirror_mode": {
    "name": "ipython",
    "version": 3
   },
   "file_extension": ".py",
   "mimetype": "text/x-python",
   "name": "python",
   "nbconvert_exporter": "python",
   "pygments_lexer": "ipython3",
   "version": "3.8.10"
  },
  "orig_nbformat": 4,
  "vscode": {
   "interpreter": {
    "hash": "e7370f93d1d0cde622a1f8e1c04877d8463912d04d973331ad4851f04de6915a"
   }
  }
 },
 "nbformat": 4,
 "nbformat_minor": 2
}
