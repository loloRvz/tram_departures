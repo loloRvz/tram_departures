{
 "cells": [
  {
   "cell_type": "code",
   "execution_count": 5,
   "metadata": {},
   "outputs": [],
   "source": [
    "import requests\n",
    "import xml.etree.ElementTree as ET"
   ]
  },
  {
   "cell_type": "code",
   "execution_count": 6,
   "metadata": {},
   "outputs": [],
   "source": [
    "# API request with xml data payload\n",
    "def send_xml_request(api_key):\n",
    "    # Select request params\n",
    "    xml_payload = open(\"API_request.xml\").read()\n",
    "\n",
    "    # API url\n",
    "    endpoint_url = 'https://api.opentransportdata.swiss/trias2020'\n",
    "\n",
    "    try:\n",
    "        response = requests.post(endpoint_url, headers={'Content-Type': 'application/xml', 'Authorization': 'Bearer {}'.format(api_key)}, data=xml_payload)\n",
    "        if response.status_code == 200:\n",
    "            # Process the response data as needed\n",
    "            return response\n",
    "        else:\n",
    "            print(\"Error: Unable to fetch data from the API. Status code:\", response.status_code)\n",
    "    except Exception as e:\n",
    "        print(\"An error occurred:\", e)"
   ]
  },
  {
   "cell_type": "code",
   "execution_count": 7,
   "metadata": {},
   "outputs": [
    {
     "name": "stdout",
     "output_type": "stream",
     "text": [
      "<class 'requests.models.Response'>\n",
      "<?xml version=\"1.0\" encoding=\"UTF-8\"?>\n",
      "<trias:Trias xmlns:siri=\"http://www.siri.org.uk/siri\" xmlns:trias=\"http://www.vdv.de/trias\" xmlns:acsb=\"http://www.ifopt.org.uk/acsb\" xmlns:ifopt=\"http://www.ifopt.org.uk/ifopt\" xmlns:datex2=\"http://datex2.eu/schema/1_0/1_0\" version=\"1.1\"><trias:ServiceDelivery><siri:ResponseTimestamp>2024-02-16T20:03:48Z</siri:ResponseTimestamp><siri:ProducerRef>EFAController10.6.15.15-OJP-EFA01-P</siri:ProducerRef><siri:Status>true</siri:Status><trias:Language>de</trias:Language><trias:CalcTime>63</trias:CalcTime><trias:DeliveryPayload><trias:StopEventResponse><trias:StopEventResponseContext><trias:Situations></trias:Situations></trias:StopEventResponseContext><trias:StopEventResult><trias:ResultId>ID-B880EDC1-FF80-4885-96BE-CBF4ED1D78DF</trias:ResultId><trias:StopEvent><trias:PreviousCall><trias:CallAtStop><trias:StopPointRef>ch:1:sloid:7100:3:4</trias:StopPointRef><trias:StopPointName><trias:Text>Thun</trias:Text><trias:Language>de</trias:Language></trias:StopPointName><trias:PlannedBay><trias:Text>4</trias:Text><trias:Language>de</trias:Language></trias:PlannedBay><trias:ServiceDeparture><trias:TimetabledTime>2024-02-16T18:43:00Z</trias:TimetabledTime></trias:ServiceDeparture><trias:StopSeqNumber>1</trias:StopSeqNumber></trias:CallAtStop></trias:PreviousCall><trias:PreviousCall><trias:CallAtStop><trias:StopPointRef>ch:1:sloid:7009:1:2</trias:StopPointRef><trias:StopPointName><trias:Text>Uttigen</trias:Text><trias:Language>de</trias:Language></trias:StopPointName><trias:PlannedBay><trias:Text>2</trias:Text><trias:Language>de</trias:Language></trias:PlannedBay><trias:ServiceArrival><trias:TimetabledTime>2024-02-16T18:47:00Z</trias:TimetabledTime></trias:ServiceArrival><trias:ServiceDeparture><trias:TimetabledTime>2024-02-16T18:47:00Z</trias:TimetabledTime></trias:ServiceDeparture><trias:StopSeqNumber>2</trias:StopSeqNumber></trias:CallAtStop></trias:PreviousCall><trias:PreviousCall><trias:CallAtStop><trias:StopPointRef>ch:1:sloid:7008:2:2</trias:StopPointRef><trias:StopPointName><trias:Text>Kiesen</trias:Text><trias:Language>de</trias:Language></trias:StopPointName><trias:PlannedBay><trias:Text>2</trias:Text><trias:Language>de</trias:Language></trias:PlannedBay><trias:ServiceArrival><trias:TimetabledTime>2024-02-16T18:49:00Z</trias:TimetabledTime></trias:ServiceArrival><trias:ServiceDeparture><trias:TimetabledTime>2024-02-16T18:49:00Z</trias:TimetabledTime></trias:ServiceDeparture><trias:StopSeqNumber>3</trias:StopSeqNumber></trias:CallAtStop></trias:PreviousCall><trias:PreviousCall><trias:CallAtStop><trias:StopPointRef>ch:1:sloid:7007:2:3</trias:StopPointRef><trias:StopPointName><trias:Text>Wichtrach</trias:Text><trias:Language>de</trias:Language></trias:StopPointName><trias:PlannedBay><trias:Text>3</trias:Text><trias:Language>de</trias:Language></trias:PlannedBay><trias:ServiceArrival><trias:TimetabledTime>2024-02-16T18:52:00Z</trias:TimetabledTime></trias:ServiceArrival><trias:ServiceDeparture><trias:TimetabledTime>2024-02-16T18:52:00Z</trias:TimetabledTime></trias:ServiceDeparture><trias:StopSeqNumber>4</trias:StopSeqNumber></trias:CallAtStop></trias:PreviousCall><trias:PreviousCall><trias:CallAtStop><trias:StopPointRef>ch:1:sloid:7006:2:2</trias:StopPointRef><trias:StopPointName><trias:Text>MÃ¼nsingen</trias:Text><trias:Language>de</trias:Language></trias:StopPointName><trias:PlannedBay><trias:Text>2</trias:Text><trias:Language>de</trias:Language></trias:PlannedBay><trias:ServiceArrival><trias:TimetabledTime>2024-02-16T18:55:00Z</trias:TimetabledTime></trias:ServiceArrival><trias:ServiceDeparture><trias:TimetabledTime>2024-02-16T18:56:00Z</trias:TimetabledTime></trias:ServiceDeparture><trias:StopSeqNumber>5</trias:StopSeqNumber></trias:CallAtStop></trias:PreviousCall><trias:PreviousCall><trias:CallAtStop><trias:StopPointRef>ch:1:sloid:7005:1:1</trias:StopPointRef><trias:StopPointName><trias:Text>Rubigen</trias:Text><trias:Language>de</trias:Language></trias:StopPointName><trias:PlannedBay><trias:Text>1</trias:Text><trias:Language>de</trias:Language></trias:PlannedBay><trias:ServiceArrival><trias:TimetabledTime>2024-02-16T18:58:00Z</trias:TimetabledTime></trias:ServiceArrival><trias:ServiceDeparture><trias:TimetabledTime>2024-02-16T18:58:00Z</trias:TimetabledTime></trias:ServiceDeparture><trias:StopSeqNumber>6</trias:StopSeqNumber></trias:CallAtStop></trias:PreviousCall><trias:PreviousCall><trias:CallAtStop><trias:StopPointRef>ch:1:sloid:7003:2:3</trias:StopPointRef><trias:StopPointName><trias:Text>GÃ¼mligen</trias:Text><trias:Language>de</trias:Language></trias:StopPointName><trias:PlannedBay><trias:Text>3</trias:Text><trias:Language>de</trias:Language></trias:PlannedBay><trias:ServiceArrival><trias:TimetabledTime>2024-02-16T19:02:00Z</trias:TimetabledTime></trias:ServiceArrival><trias:ServiceDeparture><trias:TimetabledTime>2024-02-16T19:03:00Z</trias:TimetabledTime></trias:ServiceDeparture><trias:StopSeqNumber>7</trias:StopSeqNumber></trias:CallAtStop></trias:PreviousCall><trias:PreviousCall><trias:CallAtStop><trias:StopPointRef>ch:1:sloid:7002:1:1</trias:StopPointRef><trias:StopPointName><trias:Text>Ostermundigen</trias:Text><trias:Language>de</trias:Language></trias:StopPointName><trias:PlannedBay><trias:Text>1</trias:Text><trias:Language>de</trias:Language></trias:PlannedBay><trias:ServiceArrival><trias:TimetabledTime>2024-02-16T19:05:00Z</trias:TimetabledTime></trias:ServiceArrival><trias:ServiceDeparture><trias:TimetabledTime>2024-02-16T19:06:00Z</trias:TimetabledTime></trias:ServiceDeparture><trias:StopSeqNumber>8</trias:StopSeqNumber></trias:CallAtStop></trias:PreviousCall><trias:PreviousCall><trias:CallAtStop><trias:StopPointRef>ch:1:sloid:16161:0:0</trias:StopPointRef><trias:StopPointName><trias:Text>Bern Wankdorf</trias:Text><trias:Language>de</trias:Language></trias:StopPointName><trias:PlannedBay><trias:Text>1</trias:Text><trias:Language>de</trias:Language></trias:PlannedBay><trias:ServiceArrival><trias:TimetabledTime>2024-02-16T19:08:00Z</trias:TimetabledTime></trias:ServiceArrival><trias:ServiceDeparture><trias:TimetabledTime>2024-02-16T19:08:00Z</trias:TimetabledTime></trias:ServiceDeparture><trias:StopSeqNumber>9</trias:StopSeqNumber></trias:CallAtStop></trias:PreviousCall><trias:ThisCall><trias:CallAtStop><trias:StopPointRef>ch:1:sloid:7000:1:1</trias:StopPointRef><trias:StopPointName><trias:Text>Bern</trias:Text><trias:Language>de</trias:Language></trias:StopPointName><trias:PlannedBay><trias:Text>1A-D</trias:Text><trias:Language>de</trias:Language></trias:PlannedBay><trias:ServiceDeparture><trias:TimetabledTime>2024-02-16T19:15:00Z</trias:TimetabledTime></trias:ServiceDeparture><trias:StopSeqNumber>10</trias:StopSeqNumber></trias:CallAtStop></trias:ThisCall><trias:OnwardCall><trias:CallAtStop><trias:StopPointRef>ch:1:sloid:4108:2:3</trias:StopPointRef><trias:StopPointName><trias:Text>Bern Europaplatz</trias:Text><trias:Language>de</trias:Language></trias:StopPointName><trias:PlannedBay><trias:Text>3</trias:Text><trias:Language>de</trias:Language></trias:PlannedBay><trias:ServiceArrival><trias:TimetabledTime>2024-02-16T19:19:00Z</trias:TimetabledTime></trias:ServiceArrival><trias:ServiceDeparture><trias:TimetabledTime>2024-02-16T19:19:00Z</trias:TimetabledTime></trias:ServiceDeparture><trias:StopSeqNumber>11</trias:StopSeqNumber></trias:CallAtStop></trias:OnwardCall><trias:OnwardCall><trias:CallAtStop><trias:StopPointRef>ch:1:sloid:4106:2:2</trias:StopPointRef><trias:StopPointName><trias:Text>Bern BÃ¼mpliz SÃ¼d</trias:Text><trias:Language>de</trias:Language></trias:StopPointName><trias:PlannedBay><trias:Text>2</trias:Text><trias:Language>de</trias:Language></trias:PlannedBay><trias:ServiceArrival><trias:TimetabledTime>2024-02-16T19:21:00Z</trias:TimetabledTime></trias:ServiceArrival><trias:ServiceDeparture><trias:TimetabledTime>2024-02-16T19:21:00Z</trias:TimetabledTime></trias:ServiceDeparture><trias:StopSeqNumber>12</trias:StopSeqNumber></trias:CallAtStop></trias:OnwardCall><trias:OnwardCall><trias:CallAtStop><trias:StopPointRef>ch:1:sloid:4105:1:1</trias:StopPointRef><trias:StopPointName><trias:Text>Niederwangen</trias:Text><trias:Language>de</trias:Language></trias:StopPointName><trias:PlannedBay><trias:Text>1</trias:Text><trias:Language>de</trias:Language></trias:PlannedBay><trias:ServiceArrival><trias:TimetabledTime>2024-02-16T19:23:00Z</trias:TimetabledTime></trias:ServiceArrival><trias:ServiceDeparture><trias:TimetabledTime>2024-02-16T19:23:00Z</trias:TimetabledTime></trias:ServiceDeparture><trias:StopSeqNumber>13</trias:StopSeqNumber></trias:CallAtStop></trias:OnwardCall><trias:OnwardCall><trias:CallAtStop><trias:StopPointRef>ch:1:sloid:4115:1:1</trias:StopPointRef><trias:StopPointName><trias:Text>ThÃ¶rishaus Dorf</trias:Text><trias:Language>de</trias:Language></trias:StopPointName><trias:PlannedBay><trias:Text>1</trias:Text><trias:Language>de</trias:Language></trias:PlannedBay><trias:ServiceArrival><trias:TimetabledTime>2024-02-16T19:26:00Z</trias:TimetabledTime></trias:ServiceArrival><trias:ServiceDeparture><trias:TimetabledTime>2024-02-16T19:26:00Z</trias:TimetabledTime></trias:ServiceDeparture><trias:StopSeqNumber>14</trias:StopSeqNumber></trias:CallAtStop></trias:OnwardCall><trias:OnwardCall><trias:CallAtStop><trias:StopPointRef>ch:1:sloid:4103:3:3</trias:StopPointRef><trias:StopPointName><trias:Text>Flamatt</trias:Text><trias:Language>de</trias:Language></trias:StopPointName><trias:PlannedBay><trias:Text>3</trias:Text><trias:Language>de</trias:Language></trias:PlannedBay><trias:ServiceArrival><trias:TimetabledTime>2024-02-16T19:29:00Z</trias:TimetabledTime></trias:ServiceArrival><trias:ServiceDeparture><trias:TimetabledTime>2024-02-16T19:29:00Z</trias:TimetabledTime></trias:ServiceDeparture><trias:StopSeqNumber>15</trias:StopSeqNumber></trias:CallAtStop></trias:OnwardCall><trias:OnwardCall><trias:CallAtStop><trias:StopPointRef>ch:1:sloid:4113:2:2</trias:StopPointRef><trias:StopPointName><trias:Text>WÃ¼nnewil</trias:Text><trias:Language>de</trias:Language></trias:StopPointName><trias:PlannedBay><trias:Text>2</trias:Text><trias:Language>de</trias:Language></trias:PlannedBay><trias:ServiceArrival><trias:TimetabledTime>2024-02-16T19:32:00Z</trias:TimetabledTime></trias:ServiceArrival><trias:ServiceDeparture><trias:TimetabledTime>2024-02-16T19:32:00Z</trias:TimetabledTime></trias:ServiceDeparture><trias:StopSeqNumber>16</trias:StopSeqNumber></trias:CallAtStop></trias:OnwardCall><trias:OnwardCall><trias:CallAtStop><trias:StopPointRef>ch:1:sloid:4102:2:2</trias:StopPointRef><trias:StopPointName><trias:Text>Schmitten FR</trias:Text><trias:Language>de</trias:Language></trias:StopPointName><trias:PlannedBay><trias:Text>2</trias:Text><trias:Language>de</trias:Language></trias:PlannedBay><trias:ServiceArrival><trias:TimetabledTime>2024-02-16T19:35:00Z</trias:TimetabledTime></trias:ServiceArrival><trias:ServiceDeparture><trias:TimetabledTime>2024-02-16T19:35:00Z</trias:TimetabledTime></trias:ServiceDeparture><trias:StopSeqNumber>17</trias:StopSeqNumber></trias:CallAtStop></trias:OnwardCall><trias:OnwardCall><trias:CallAtStop><trias:StopPointRef>ch:1:sloid:4101:1:1</trias:StopPointRef><trias:StopPointName><trias:Text>DÃ¼dingen</trias:Text><trias:Language>de</trias:Language></trias:StopPointName><trias:PlannedBay><trias:Text>1</trias:Text><trias:Language>de</trias:Language></trias:PlannedBay><trias:ServiceArrival><trias:TimetabledTime>2024-02-16T19:40:00Z</trias:TimetabledTime></trias:ServiceArrival><trias:ServiceDeparture><trias:TimetabledTime>2024-02-16T19:40:00Z</trias:TimetabledTime></trias:ServiceDeparture><trias:StopSeqNumber>18</trias:StopSeqNumber></trias:CallAtStop></trias:OnwardCall><trias:OnwardCall><trias:CallAtStop><trias:StopPointRef>ch:1:sloid:19133:2:2</trias:StopPointRef><trias:StopPointName><trias:Text>Fribourg/Freiburg Poya</trias:Text><trias:Language>de</trias:Language></trias:StopPointName><trias:PlannedBay><trias:Text>2</trias:Text><trias:Language>de</trias:Language></trias:PlannedBay><trias:ServiceArrival><trias:TimetabledTime>2024-02-16T19:44:00Z</trias:TimetabledTime></trias:ServiceArrival><trias:ServiceDeparture><trias:TimetabledTime>2024-02-16T19:44:00Z</trias:TimetabledTime></trias:ServiceDeparture><trias:StopSeqNumber>19</trias:StopSeqNumber></trias:CallAtStop></trias:OnwardCall><trias:OnwardCall><trias:CallAtStop><trias:StopPointRef>ch:1:sloid:4100:1:1</trias:StopPointRef><trias:StopPointName><trias:Text>Fribourg/Freiburg</trias:Text><trias:Language>de</trias:Language></trias:StopPointName><trias:PlannedBay><trias:Text>1</trias:Text><trias:Language>de</trias:Language></trias:PlannedBay><trias:ServiceArrival><trias:TimetabledTime>2024-02-16T19:48:00Z</trias:TimetabledTime></trias:ServiceArrival><trias:StopSeqNumber>20</trias:StopSeqNumber></trias:CallAtStop></trias:OnwardCall><trias:Service><trias:OperatingDayRef>2024-02-16</trias:OperatingDayRef><trias:JourneyRef>ch:1:sjyid:100015:15174-001</trias:JourneyRef><trias:LineRef>ojp:91001:E:H</trias:LineRef><trias:DirectionRef>outward</trias:DirectionRef><trias:Mode><trias:PtMode>rail</trias:PtMode><trias:RailSubmode>regionalRail</trias:RailSubmode><trias:Name><trias:Text>Zug</trias:Text><trias:Language>de</trias:Language></trias:Name></trias:Mode><trias:PublishedLineName><trias:Text>S1</trias:Text><trias:Language>de</trias:Language></trias:PublishedLineName><trias:OperatorRef>ojp:33</trias:OperatorRef><trias:OriginStopPointRef>ch:1:sloid:7100:3:4</trias:OriginStopPointRef><trias:OriginText><trias:Text>Thun</trias:Text><trias:Language>de</trias:Language></trias:OriginText><trias:DestinationStopPointRef>ch:1:sloid:4100:1:1</trias:DestinationStopPointRef><trias:DestinationText><trias:Text>Fribourg/Freiburg</trias:Text><trias:Language>de</trias:Language></trias:DestinationText></trias:Service></trias:StopEvent></trias:StopEventResult></trias:StopEventResponse></trias:DeliveryPayload></trias:ServiceDelivery></trias:Trias>\n"
     ]
    }
   ],
   "source": [
    "api_key = 'eyJvcmciOiI2NDA2NTFhNTIyZmEwNTAwMDEyOWJiZTEiLCJpZCI6ImFlMjA4ODJkZTRjMzRjYTY4NjVkNDJkOGM1MWFmM2YxIiwiaCI6Im11cm11cjEyOCJ9'\n",
    "\n",
    "response = send_xml_request(api_key)\n",
    "print(type(response))\n",
    "\n",
    "tree = ET.ElementTree(ET.fromstring(response.text))\n",
    "root = tree.getroot()\n",
    "\n",
    "print(response.\n",
    "text)"
   ]
  }
 ],
 "metadata": {
  "kernelspec": {
   "display_name": "Python 3.8.10 64-bit",
   "language": "python",
   "name": "python3"
  },
  "language_info": {
   "codemirror_mode": {
    "name": "ipython",
    "version": 3
   },
   "file_extension": ".py",
   "mimetype": "text/x-python",
   "name": "python",
   "nbconvert_exporter": "python",
   "pygments_lexer": "ipython3",
   "version": "3.8.10"
  },
  "orig_nbformat": 4,
  "vscode": {
   "interpreter": {
    "hash": "e7370f93d1d0cde622a1f8e1c04877d8463912d04d973331ad4851f04de6915a"
   }
  }
 },
 "nbformat": 4,
 "nbformat_minor": 2
}
