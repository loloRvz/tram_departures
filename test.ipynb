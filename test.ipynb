{
 "cells": [
  {
   "cell_type": "code",
   "execution_count": 710,
   "metadata": {},
   "outputs": [],
   "source": [
    "from datetime import datetime, timedelta\n",
    "import pytz\n",
    "from tabulate import tabulate\n",
    "\n",
    "import requests\n",
    "import xml.etree.ElementTree as ET"
   ]
  },
  {
   "cell_type": "code",
   "execution_count": 711,
   "metadata": {},
   "outputs": [],
   "source": [
    "# Send departures API request with xml data payload\n",
    "def send_departures_request(ns,api_key, time_now):\n",
    "    # Select request params\n",
    "    tree = ET.parse('API_request.xml')\n",
    "    root = tree.getroot()\n",
    "\n",
    "    RequestTimestamp = root.find('./trias:ServiceRequest/siri:RequestTimestamp',ns)\n",
    "    RequestTimestamp.text = time_now.strftime(\"%Y-%m-%dT%H:%M:%S.000Z\")\n",
    "\n",
    "    DepArrTime = root.find('./trias:ServiceRequest/trias:RequestPayload/trias:StopEventRequest/trias:Location/trias:DepArrTime',ns)\n",
    "    DepArrTime.text = time_now.strftime(\"%Y-%m-%dT%H:%M:%S\")\n",
    "\n",
    "    # an_element = ET.Element(\"Animal\", Species=\"Python\")\n",
    "    xml_payload = ET.tostring(root, encoding='unicode')\n",
    "\n",
    "    # API url\n",
    "    endpoint_url = 'https://api.opentransportdata.swiss/trias2020'\n",
    "\n",
    "    try:\n",
    "        response = requests.post(endpoint_url, headers={'Content-Type': 'application/xml', 'Authorization': 'Bearer {}'.format(api_key)}, data=xml_payload)\n",
    "        if response.status_code == 200:\n",
    "            # Process the response data as needed\n",
    "            return response\n",
    "        else:\n",
    "            print(\"Error: Unable to fetch data from the API. Status code:\", response.status_code)\n",
    "    except Exception as e:\n",
    "        print(\"An error occurred:\", e)"
   ]
  },
  {
   "cell_type": "code",
   "execution_count": 712,
   "metadata": {},
   "outputs": [],
   "source": [
    "# Process API response and extract line_numer, direction, and departure time\n",
    "def process_response(ns,response,time_now):\n",
    "    XML_PATHS = {\n",
    "        \"responses\":        \"./trias:ServiceDelivery/trias:DeliveryPayload/trias:StopEventResponse\",\n",
    "        \"line_num\":         \"./trias:StopEvent/trias:Service/trias:PublishedLineName/trias:Text\",\n",
    "        \"direction\":        \"./trias:StopEvent/trias:Service/trias:DestinationText/trias:Text\",\n",
    "        \"departure_time\":   \"./trias:StopEvent/trias:ThisCall/trias:CallAtStop/trias:ServiceDeparture/trias:TimetabledTime\"\n",
    "    }\n",
    "\n",
    "    # Parse API response from string to object\n",
    "    tree = ET.ElementTree(ET.fromstring(response.text))\n",
    "    root = tree.getroot()\n",
    "\n",
    "    # Get list of responses\n",
    "    reponses = root.find(XML_PATHS[\"responses\"],ns)\n",
    "\n",
    "    # Extract critical info for each response\n",
    "    departures_table = []\n",
    "    for elem in reponses.findall('trias:StopEventResult',ns):\n",
    "        # Get line number\n",
    "        line_number = elem.find(XML_PATHS[\"line_num\"],ns).text\n",
    "        # Get direction/final station\n",
    "        direction = elem.find(XML_PATHS[\"direction\"],ns).text \n",
    "        # Get departure time\n",
    "        departure_time_UTC = datetime.strptime( elem.find(XML_PATHS[\"departure_time\"],ns).text, '%Y-%m-%dT%H:%M:%SZ')\n",
    "        departure_time_UTC = departure_time_UTC.replace(tzinfo=pytz.utc)\n",
    "        departure_time_ZH = departure_time_UTC.astimezone(pytz.timezone(\"Europe/Zurich\"))\n",
    "        # Convert to time left\n",
    "        time_left = departure_time_ZH - time_now\n",
    "        if time_left < timedelta(minutes=1):\n",
    "            time_left = chr(int('1F68D',16))\n",
    "        else:\n",
    "            time_left = time_left\n",
    "\n",
    "        departures_table.append(dict(line_number=line_number, direction=direction, time_left=time_left))\n",
    "\n",
    "    header = departures_table[0].keys()\n",
    "    rows =  [r.values() for r in departures_table]\n",
    "    print(tabulate(rows, header))"
   ]
  },
  {
   "cell_type": "code",
   "execution_count": 713,
   "metadata": {},
   "outputs": [
    {
     "name": "stdout",
     "output_type": "stream",
     "text": [
      "  line_number  direction                       time_left\n",
      "-------------  ------------------------------  --------------\n",
      "           11  ZÃ¼rich, Auzelg                 0:02:32.181451\n",
      "           33  ZÃ¼rich Tiefenbrunnen, Bahnhof  0:04:50.181451\n",
      "           14  ZÃ¼rich, Triemli                0:05:50.181451\n",
      "           14  ZÃ¼rich, Seebach                0:06:38.181451\n"
     ]
    }
   ],
   "source": [
    "# Fetch API key from txt file\n",
    "api_key = xml_payload = open(\"api_key.txt\").read()\n",
    "\n",
    "# Define API namespaces\n",
    "ns = {'trias': 'http://www.vdv.de/trias','siri': \"http://www.siri.org.uk/siri\" }\n",
    "\n",
    "# Get current time\n",
    "time_now = datetime.now().astimezone(pytz.timezone(\"Europe/Zurich\"))\n",
    "\n",
    "# Send API request for current departures\n",
    "response = send_departures_request(ns, api_key, time_now)\n",
    "\n",
    "# Process XML response and extract display info\n",
    "process_response(ns, response, time_now)\n",
    "\n"
   ]
  }
 ],
 "metadata": {
  "kernelspec": {
   "display_name": "Python 3.8.10 64-bit",
   "language": "python",
   "name": "python3"
  },
  "language_info": {
   "codemirror_mode": {
    "name": "ipython",
    "version": 3
   },
   "file_extension": ".py",
   "mimetype": "text/x-python",
   "name": "python",
   "nbconvert_exporter": "python",
   "pygments_lexer": "ipython3",
   "version": "3.8.10"
  },
  "orig_nbformat": 4,
  "vscode": {
   "interpreter": {
    "hash": "e7370f93d1d0cde622a1f8e1c04877d8463912d04d973331ad4851f04de6915a"
   }
  }
 },
 "nbformat": 4,
 "nbformat_minor": 2
}
